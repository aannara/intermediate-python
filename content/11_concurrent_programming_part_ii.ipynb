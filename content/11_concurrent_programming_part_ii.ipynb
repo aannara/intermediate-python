{
 "cells": [
  {
   "cell_type": "markdown",
   "id": "3c84b286-9541-4fd8-90eb-77ab948f8555",
   "metadata": {},
   "source": [
    "[<< 10. Concurrent programming (Part I)](10_concurrent_programming_part_i.ipynb) | [Index](00_index.ipynb) | [12. Builtin database in Python: SQLite >>](12_using_a_database.ipynb)"
   ]
  },
  {
   "cell_type": "markdown",
   "id": "fe5712db-c3c8-44e4-a440-a1c08a157a66",
   "metadata": {},
   "source": [
    "# Asynchrous programming"
   ]
  },
  {
   "cell_type": "markdown",
   "id": "2cf3a7f6-d284-4de0-b57a-b96dfd147312",
   "metadata": {},
   "source": [
    "Asyncio is a library to write single-threaded concurrent code using the async/await syntax. It is used as a foundation for multiple Python asynchronous frameworks that provide high-performance network and web-servers, database connection libraries, distributed task queues, etc. It is often a perfect fit for IO-bound and high-level structured network code.\n",
    "\n",
    "Key Concepts\n",
    "* **Event Loop**: The core of every asyncio application. It orchestrates the execution of different tasks and callbacks.\n",
    "* **Coroutines**: Special functions that work as the building blocks for asyncio applications. They are defined with async def and can be paused and resumed with await.\n",
    "* **Tasks**: Used to schedule coroutines concurrently. When a coroutine is wrapped into a Task with functions like `asyncio.create_task()`, it's executed in the event loop."
   ]
  },
  {
   "cell_type": "markdown",
   "id": "1551df3b-3c51-4a9f-bedc-f5d202346548",
   "metadata": {},
   "source": [
    "![](./static/SubVsCoRoutines.png)"
   ]
  },
  {
   "cell_type": "code",
   "execution_count": null,
   "id": "9385b98c-3650-4f49-9f1b-60024ae760aa",
   "metadata": {},
   "outputs": [],
   "source": [
    "import asyncio\n",
    "import time"
   ]
  },
  {
   "cell_type": "markdown",
   "id": "cc9a9db0-5e75-4475-8412-3f80b9309bd6",
   "metadata": {},
   "source": [
    "### Basic"
   ]
  },
  {
   "cell_type": "code",
   "execution_count": null,
   "id": "b694b971-c6d6-47ab-a792-9bc9a7ecde95",
   "metadata": {},
   "outputs": [],
   "source": [
    "async def main():\n",
    "    print('Hello')\n",
    "    await asyncio.sleep(5)\n",
    "    print('World')\n",
    "    \n",
    "await main()"
   ]
  },
  {
   "cell_type": "code",
   "execution_count": null,
   "id": "bc061daa-b0d2-4a28-a23c-e915805ea138",
   "metadata": {},
   "outputs": [],
   "source": [
    "# When executing in normal programs\n",
    "# outside of Jupyter Notebook,\n",
    "# use below method instead:\n",
    "#\n",
    "# asyncio.run(main())"
   ]
  },
  {
   "cell_type": "markdown",
   "id": "659f4c24-19e6-401e-a7f0-afa36d4cd813",
   "metadata": {},
   "source": [
    "### With tasks"
   ]
  },
  {
   "cell_type": "code",
   "execution_count": null,
   "id": "818797bb-c9ef-4d15-bf44-711b1fac1e2e",
   "metadata": {},
   "outputs": [],
   "source": [
    "async def say_after(delay, what):\n",
    "    await asyncio.sleep(delay)\n",
    "    print(what)\n",
    "\n",
    "async def main():\n",
    "    task1 = asyncio.create_task(say_after(2, 'Hello'))\n",
    "    task2 = asyncio.create_task(say_after(5, 'World'))\n",
    "\n",
    "    print('Started tasks')\n",
    "    await task1\n",
    "    await task2\n",
    "    print('Finished tasks')"
   ]
  },
  {
   "cell_type": "code",
   "execution_count": null,
   "id": "d0712e83-63cf-494d-b038-b58728c6166e",
   "metadata": {},
   "outputs": [],
   "source": [
    "await main()"
   ]
  },
  {
   "cell_type": "markdown",
   "id": "1bfa03d6-31b7-4bbe-a57b-5d9e864f05dd",
   "metadata": {},
   "source": [
    "### Gather"
   ]
  },
  {
   "cell_type": "code",
   "execution_count": null,
   "id": "a0fc74a4-76ac-4312-a51a-d7c1d4173f03",
   "metadata": {},
   "outputs": [],
   "source": [
    "async def factorial(name, number):\n",
    "    f = 1\n",
    "    for i in range(2, number + 1):\n",
    "        print(f\"Task {name}: Compute factorial({i})...\")\n",
    "        await asyncio.sleep(1)\n",
    "        f *= i\n",
    "    print(f\"Task {name}: factorial({number}) = {f}\")\n",
    "\n",
    "async def main():\n",
    "    # Schedule three calls *concurrently*:\n",
    "    await asyncio.gather(\n",
    "        factorial(\"A\", 2),\n",
    "        factorial(\"B\", 3),\n",
    "        factorial(\"C\", 4),\n",
    "    )"
   ]
  },
  {
   "cell_type": "code",
   "execution_count": null,
   "id": "d7ece5e3-e826-4a00-895c-4b8f5527f7a4",
   "metadata": {},
   "outputs": [],
   "source": [
    "await main()"
   ]
  },
  {
   "cell_type": "markdown",
   "id": "d0cc3225-37d8-48bd-870d-15db1ac2410d",
   "metadata": {},
   "source": [
    "### Mixing with blocking call"
   ]
  },
  {
   "cell_type": "code",
   "execution_count": null,
   "id": "cad3c6f6-5cd6-4450-afff-3b942abe112a",
   "metadata": {},
   "outputs": [],
   "source": [
    "def blocking_io():\n",
    "    print(f\"start blocking_io at {time.strftime('%X')}\")\n",
    "    # Blocking I/O operation\n",
    "    time.sleep(5)\n",
    "    print(f\"blocking_io complete at {time.strftime('%X')}\")\n",
    "\n",
    "async def factorial(name, number):\n",
    "    f = 1\n",
    "    for i in range(2, number + 1):\n",
    "        print(f\"Task {name}: Compute factorial({i})...\")\n",
    "        await asyncio.sleep(2)\n",
    "        f *= i\n",
    "    print(f\"Task {name}: factorial({number}) = {f}\")    \n",
    "\n",
    "async def main():\n",
    "    print(f\"started main at {time.strftime('%X')}\")\n",
    "\n",
    "    await asyncio.gather(\n",
    "        asyncio.to_thread(blocking_io),\n",
    "        factorial(\"A\", 3)\n",
    "    )\n",
    "\n",
    "    print(f\"finished main at {time.strftime('%X')}\")\n"
   ]
  },
  {
   "cell_type": "code",
   "execution_count": null,
   "id": "04de67db-1417-49f7-a91c-f7ca0de89d8e",
   "metadata": {},
   "outputs": [],
   "source": [
    "await main()"
   ]
  },
  {
   "cell_type": "markdown",
   "id": "3c0d3a6c-e0a2-473e-af5a-794decd1a5cb",
   "metadata": {},
   "source": [
    "### Timeout"
   ]
  },
  {
   "cell_type": "code",
   "execution_count": null,
   "id": "d72e0fc5-0e82-4a03-9c9e-9cb2533ece87",
   "metadata": {},
   "outputs": [],
   "source": [
    "async def long_running_task():\n",
    "    await asyncio.sleep(10)\n",
    "    return \"Task completed\"\n",
    "\n",
    "async def main():\n",
    "    start_time = time.perf_counter()\n",
    "    \n",
    "    try:\n",
    "        result = await asyncio.wait_for(long_running_task(), timeout=5)\n",
    "        print(result)\n",
    "    except asyncio.TimeoutError:\n",
    "        print(\"The task did not complete within the timeout period.\")\n",
    "        \n",
    "    time_taken = time.perf_counter() - start_time\n",
    "    print(f\"Total time taken: {time_taken}\")\n",
    "await main()"
   ]
  },
  {
   "cell_type": "markdown",
   "id": "caa82a13-abb8-4b4e-a475-09775f0545df",
   "metadata": {},
   "source": [
    "[<< 10. Concurrent programming (Part I)](10_concurrent_programming_part_i.ipynb) | [Index](00_index.ipynb) | [12. Builtin database in Python: SQLite >>](12_using_a_database.ipynb)"
   ]
  }
 ],
 "metadata": {
  "kernelspec": {
   "display_name": "Python 3 (ipykernel)",
   "language": "python",
   "name": "python3"
  },
  "language_info": {
   "codemirror_mode": {
    "name": "ipython",
    "version": 3
   },
   "file_extension": ".py",
   "mimetype": "text/x-python",
   "name": "python",
   "nbconvert_exporter": "python",
   "pygments_lexer": "ipython3",
   "version": "3.10.8"
  }
 },
 "nbformat": 4,
 "nbformat_minor": 5
}
