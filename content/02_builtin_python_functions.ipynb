{
 "cells": [
  {
   "cell_type": "markdown",
   "metadata": {},
   "source": [
    "[<< 01. Recap of basics of Python](01_python_basic_recap.ipynb) | [Index](00_index.ipynb) | [03. Using command line arguments >>](03_command_line_arguments.ipynb)"
   ]
  },
  {
   "cell_type": "markdown",
   "metadata": {},
   "source": [
    "# Built-in functions and data structures in Python"
   ]
  },
  {
   "cell_type": "markdown",
   "metadata": {},
   "source": [
    "### enumerate"
   ]
  },
  {
   "cell_type": "code",
   "execution_count": null,
   "metadata": {},
   "outputs": [],
   "source": [
    "words = [\"one\", \"two\", \"three\", \"four\", \"five\", \"six\"]\n",
    "for index, item in enumerate(words):\n",
    "    print(index, item)"
   ]
  },
  {
   "cell_type": "markdown",
   "metadata": {},
   "source": [
    "### zip"
   ]
  },
  {
   "cell_type": "code",
   "execution_count": null,
   "metadata": {},
   "outputs": [],
   "source": [
    "words = [\"one\", \"two\", \"three\", \"four\"]\n",
    "numbers = [1, 2, 3, 4]\n",
    "print(list(zip(words, numbers)))"
   ]
  },
  {
   "cell_type": "code",
   "execution_count": null,
   "metadata": {},
   "outputs": [],
   "source": [
    "words = [\"one\", \"two\", \"three\", \"four\", \"five\", \"six\"]\n",
    "numbers = [1, 2, 3, 4]\n",
    "print(list(zip(words, numbers)))"
   ]
  },
  {
   "cell_type": "markdown",
   "metadata": {},
   "source": [
    "### zip longest"
   ]
  },
  {
   "cell_type": "code",
   "execution_count": null,
   "metadata": {},
   "outputs": [],
   "source": [
    "from itertools import zip_longest\n",
    "\n",
    "words = [\"one\", \"two\", \"three\", \"four\", \"five\", \"six\"]\n",
    "numbers = [1, 2, 3, 4]\n",
    "print(list(zip_longest(words, numbers)))"
   ]
  },
  {
   "cell_type": "markdown",
   "metadata": {},
   "source": [
    "### any"
   ]
  },
  {
   "cell_type": "code",
   "execution_count": null,
   "metadata": {},
   "outputs": [],
   "source": [
    "temperatures = [25, 30, 15, 10, 35]\n",
    "\n",
    "# Check if any of the temparature values is more than 30 degree celsius\n",
    "is_warm = False\n",
    "for temparature in temperatures:\n",
    "    if temparature > 30:\n",
    "        is_warm = True\n",
    "        break\n",
    "print(is_warm)"
   ]
  },
  {
   "cell_type": "code",
   "execution_count": null,
   "metadata": {},
   "outputs": [],
   "source": [
    "temperatures = [25, 30, 15, 10, 35]\n",
    "\n",
    "for temparature in temperatures:\n",
    "    if temparature > 30:\n",
    "        is_warm = True\n",
    "        break\n",
    "else:\n",
    "    is_warm = False\n",
    "print(is_warm)"
   ]
  },
  {
   "cell_type": "code",
   "execution_count": null,
   "metadata": {},
   "outputs": [],
   "source": [
    "temperatures = [25, 30, 15, 10, 35]\n",
    "is_warm = any(temperature > 30 for temperature in temperatures)\n",
    "print(is_warm)"
   ]
  },
  {
   "cell_type": "markdown",
   "metadata": {},
   "source": [
    "### all"
   ]
  },
  {
   "cell_type": "code",
   "execution_count": null,
   "metadata": {},
   "outputs": [],
   "source": [
    "grades = [90, 85, 88, 92, 87]\n",
    "\n",
    "# Check if a student has more than 85 marks in all subjects\n",
    "are_excellent = True\n",
    "for grade in grades:\n",
    "    if grade < 85:\n",
    "        are_excellent = False\n",
    "        break\n",
    "print(are_excellent)"
   ]
  },
  {
   "cell_type": "code",
   "execution_count": null,
   "metadata": {},
   "outputs": [],
   "source": [
    "grades = [90, 85, 88, 92, 87]\n",
    "are_excellent = all(grade >= 85 for grade in grades)\n",
    "print(are_excellent)"
   ]
  },
  {
   "cell_type": "markdown",
   "metadata": {},
   "source": [
    "### rounding numbers"
   ]
  },
  {
   "cell_type": "code",
   "execution_count": null,
   "metadata": {},
   "outputs": [],
   "source": [
    "from math import pi\n",
    "\n",
    "print(pi)\n",
    "print(round(pi))\n",
    "print(round(pi, 4))"
   ]
  },
  {
   "cell_type": "code",
   "execution_count": null,
   "metadata": {},
   "outputs": [],
   "source": [
    "print(round(3.5))\n",
    "print(round(4.5))"
   ]
  },
  {
   "cell_type": "code",
   "execution_count": null,
   "metadata": {},
   "outputs": [],
   "source": [
    "print(round(0.5))\n",
    "print(round(-0.5))"
   ]
  },
  {
   "cell_type": "code",
   "execution_count": null,
   "metadata": {},
   "outputs": [],
   "source": [
    "print(round(-1.5))"
   ]
  },
  {
   "cell_type": "markdown",
   "metadata": {},
   "source": [
    "### reversed"
   ]
  },
  {
   "cell_type": "code",
   "execution_count": null,
   "metadata": {},
   "outputs": [],
   "source": [
    "words = [\"one\", \"two\", \"three\", \"four\", \"five\", \"six\"]\n",
    "list(reversed(words))"
   ]
  },
  {
   "cell_type": "markdown",
   "metadata": {},
   "source": [
    "### sorted"
   ]
  },
  {
   "cell_type": "code",
   "execution_count": null,
   "metadata": {},
   "outputs": [],
   "source": [
    "words = [\"one\", \"two\", \"three\", \"four\", \"five\", \"six\"]\n",
    "list(sorted(words))"
   ]
  },
  {
   "cell_type": "code",
   "execution_count": null,
   "metadata": {},
   "outputs": [],
   "source": [
    "list(sorted(words, reverse=True))"
   ]
  },
  {
   "cell_type": "code",
   "execution_count": null,
   "metadata": {},
   "outputs": [],
   "source": [
    "list(sorted(words, key=lambda x: len(x)))"
   ]
  },
  {
   "cell_type": "markdown",
   "metadata": {},
   "source": [
    "### bytes"
   ]
  },
  {
   "cell_type": "code",
   "execution_count": null,
   "metadata": {},
   "outputs": [],
   "source": [
    "# Creating bytes from a string\n",
    "my_bytes = b\"hello\"\n",
    "print(my_bytes)"
   ]
  },
  {
   "cell_type": "code",
   "execution_count": null,
   "metadata": {},
   "outputs": [],
   "source": [
    "# Accessing bytes elements\n",
    "print(my_bytes[0])"
   ]
  },
  {
   "cell_type": "code",
   "execution_count": null,
   "metadata": {},
   "outputs": [],
   "source": [
    "# Converting bytes to string\n",
    "my_string = my_bytes.decode(\"utf-8\")\n",
    "print(my_string)"
   ]
  },
  {
   "cell_type": "markdown",
   "metadata": {},
   "source": [
    "### bytearray"
   ]
  },
  {
   "cell_type": "code",
   "execution_count": null,
   "metadata": {},
   "outputs": [],
   "source": [
    "# Creating a bytearray from a list of integers\n",
    "my_bytearray = bytearray([65, 66, 67])  # ASCII values of 'A', 'B', 'C'\n",
    "print(my_bytearray)"
   ]
  },
  {
   "cell_type": "code",
   "execution_count": null,
   "metadata": {},
   "outputs": [],
   "source": [
    "# Accessing bytearray elements\n",
    "print(my_bytearray[1])"
   ]
  },
  {
   "cell_type": "code",
   "execution_count": null,
   "metadata": {},
   "outputs": [],
   "source": [
    "# Modifying a bytearray element\n",
    "my_bytearray[1] = 68  # ASCII value of 'D'\n",
    "print(my_bytearray)"
   ]
  },
  {
   "cell_type": "code",
   "execution_count": null,
   "metadata": {},
   "outputs": [],
   "source": [
    "# Converting bytearray to bytes\n",
    "my_bytes = bytes(my_bytearray)\n",
    "print(my_bytes)"
   ]
  },
  {
   "cell_type": "markdown",
   "metadata": {},
   "source": [
    "### array\n",
    "\n",
    "When to use `array`:\n",
    "\n",
    "- When you need a list that can only hold numbers of a predefined type.\n",
    "- When you want efficient storage and manipulation of homogeneous numeric data."
   ]
  },
  {
   "cell_type": "code",
   "execution_count": null,
   "metadata": {},
   "outputs": [],
   "source": [
    "from array import array\n",
    "\n",
    "num_list = [1, 2, 3, 4]\n",
    "num_array = array(\"i\", num_list)  # 'i' represents the typecode for signed int\n",
    "\n",
    "byte_data = b\"\\x01\\x02\\x03\\x04\"\n",
    "byte_array = array(\"B\", byte_data)  # 'B' represents the typecode for unsigned byte\n",
    "\n",
    "print(num_array)  # Output: array('i', [1, 2, 3, 4])\n",
    "print(byte_array)  # Output: array('B', [1, 2, 3, 4])"
   ]
  },
  {
   "cell_type": "markdown",
   "metadata": {},
   "source": [
    "### deque\n",
    "\n",
    "When to use `deque`:\n",
    "\n",
    "- When you need a thread-safe list with efficient appends and pops from either side.\n",
    "- When you want to implement a queue or a stack efficiently."
   ]
  },
  {
   "cell_type": "code",
   "execution_count": null,
   "metadata": {},
   "outputs": [],
   "source": [
    "from collections import deque\n",
    "\n",
    "my_deque = deque([1, 2, 3, 4])"
   ]
  },
  {
   "cell_type": "code",
   "execution_count": null,
   "metadata": {},
   "outputs": [],
   "source": [
    "print(my_deque)"
   ]
  },
  {
   "cell_type": "code",
   "execution_count": null,
   "metadata": {},
   "outputs": [],
   "source": [
    "my_deque.appendleft(0)  # [0, 1, 2, 3, 4]"
   ]
  },
  {
   "cell_type": "code",
   "execution_count": null,
   "metadata": {},
   "outputs": [],
   "source": [
    "print(my_deque)"
   ]
  },
  {
   "cell_type": "code",
   "execution_count": null,
   "metadata": {},
   "outputs": [],
   "source": [
    "my_deque.extendleft([-2, -1])  # [-1, -2, 0, 1, 2, 3, 4]"
   ]
  },
  {
   "cell_type": "code",
   "execution_count": null,
   "metadata": {},
   "outputs": [],
   "source": [
    "print(my_deque)"
   ]
  },
  {
   "cell_type": "code",
   "execution_count": null,
   "metadata": {},
   "outputs": [],
   "source": [
    "leftmost_element = my_deque.popleft()\n",
    "leftmost_element"
   ]
  },
  {
   "cell_type": "code",
   "execution_count": null,
   "metadata": {},
   "outputs": [],
   "source": [
    "my_deque.rotate(2)  # [3, 4, -1, -2, 0, 1, 2]\n",
    "my_deque"
   ]
  },
  {
   "cell_type": "code",
   "execution_count": null,
   "metadata": {},
   "outputs": [],
   "source": [
    "# Bounded deque\n",
    "# Say you want to keep track of last two request that are made\n",
    "bounded_deque = deque(maxlen=3)\n",
    "\n",
    "bounded_deque.append(1)\n",
    "bounded_deque.append(2)\n",
    "bounded_deque.append(3)\n",
    "bounded_deque.append(4)\n",
    "\n",
    "bounded_deque"
   ]
  },
  {
   "cell_type": "markdown",
   "metadata": {},
   "source": [
    "### defaultdict"
   ]
  },
  {
   "cell_type": "code",
   "execution_count": null,
   "metadata": {},
   "outputs": [],
   "source": [
    "# Using defaultdict to provide default values\n",
    "from collections import defaultdict\n",
    "\n",
    "default_dict = defaultdict(int)\n",
    "default_dict[\"x\"] += 1  # 'x': 1, initialized with default value 0"
   ]
  },
  {
   "cell_type": "code",
   "execution_count": null,
   "metadata": {},
   "outputs": [],
   "source": [
    "names = [\"Alice\", \"Bob\", \"Charlie\", \"David\", \"Ella\", \"Frank\", \"Grace\", \"Henry\"]\n",
    "\n",
    "# Without defaultdict\n",
    "name_groups = {}\n",
    "for name in names:\n",
    "    starting_letter = name[0]\n",
    "    if starting_letter in name_groups:\n",
    "        name_groups[starting_letter].append(name)\n",
    "    else:\n",
    "        name_groups[starting_letter] = [name]\n",
    "\n",
    "print(name_groups)"
   ]
  },
  {
   "cell_type": "code",
   "execution_count": null,
   "metadata": {},
   "outputs": [],
   "source": [
    "# With defaultdict\n",
    "name_groups = defaultdict(list)\n",
    "for name in names:\n",
    "    starting_letter = name[0]\n",
    "    name_groups[starting_letter].append(name)\n",
    "\n",
    "print(dict(name_groups))"
   ]
  },
  {
   "cell_type": "markdown",
   "metadata": {},
   "source": [
    "### ChainMap"
   ]
  },
  {
   "cell_type": "code",
   "execution_count": null,
   "metadata": {},
   "outputs": [],
   "source": [
    "dict1 = {\"a\": 1, \"b\": 2}\n",
    "dict2 = {\"b\": 3, \"c\": 4}"
   ]
  },
  {
   "cell_type": "markdown",
   "metadata": {},
   "source": [
    "**Python 3.5+**"
   ]
  },
  {
   "cell_type": "code",
   "execution_count": null,
   "metadata": {},
   "outputs": [],
   "source": [
    "dict3 = {**dict1, **dict2}\n",
    "dict3"
   ]
  },
  {
   "cell_type": "markdown",
   "metadata": {},
   "source": [
    "**Python 3.9+**"
   ]
  },
  {
   "cell_type": "code",
   "execution_count": null,
   "metadata": {},
   "outputs": [],
   "source": [
    "dict3 = dict1 | dict2\n",
    "dict3"
   ]
  },
  {
   "cell_type": "markdown",
   "metadata": {},
   "source": [
    "**ChainMap** combines dictionaries while keeping the scope separately"
   ]
  },
  {
   "cell_type": "code",
   "execution_count": null,
   "metadata": {},
   "outputs": [],
   "source": [
    "from collections import ChainMap\n",
    "\n",
    "combined_dict = ChainMap(dict1, dict2)\n",
    "\n",
    "print(combined_dict.maps)"
   ]
  },
  {
   "cell_type": "code",
   "execution_count": null,
   "metadata": {},
   "outputs": [],
   "source": [
    "# Using new_child() to add a new dictionary\n",
    "dict3 = {\"d\": 5}\n",
    "combined_dict = combined_dict.new_child(dict3)\n",
    "print(combined_dict.maps)"
   ]
  },
  {
   "cell_type": "code",
   "execution_count": null,
   "metadata": {},
   "outputs": [],
   "source": [
    "print(combined_dict[\"d\"])"
   ]
  },
  {
   "cell_type": "code",
   "execution_count": null,
   "metadata": {},
   "outputs": [],
   "source": [
    "combined_dict[\"b\"]"
   ]
  },
  {
   "cell_type": "markdown",
   "metadata": {},
   "source": [
    "### Counter"
   ]
  },
  {
   "cell_type": "code",
   "execution_count": null,
   "metadata": {},
   "outputs": [],
   "source": [
    "from collections import Counter\n",
    "\n",
    "numbers = [3, 2, 1, 1, 2, 2, 3, 2 ,2, 2, 5, 4]\n",
    "counter = Counter(numbers)\n",
    "counter"
   ]
  },
  {
   "cell_type": "code",
   "execution_count": null,
   "metadata": {},
   "outputs": [],
   "source": [
    "counter.most_common(2)"
   ]
  },
  {
   "cell_type": "code",
   "execution_count": null,
   "metadata": {},
   "outputs": [],
   "source": [
    "counter.keys(), counter.values()"
   ]
  },
  {
   "cell_type": "code",
   "execution_count": null,
   "metadata": {},
   "outputs": [],
   "source": [
    "word_count = {}\n",
    "text = \"Lorem ipsum dolor sit amet consectetur adipiscing elit\"\n",
    "words = text.split()"
   ]
  },
  {
   "cell_type": "code",
   "execution_count": null,
   "metadata": {},
   "outputs": [],
   "source": [
    "# Without Counter\n",
    "for word in words:\n",
    "    if word in word_count:\n",
    "        word_count[word] += 1\n",
    "    else:\n",
    "        word_count[word] = 1\n",
    "\n",
    "print(word_count)"
   ]
  },
  {
   "cell_type": "code",
   "execution_count": null,
   "metadata": {},
   "outputs": [],
   "source": [
    "# With Counter\n",
    "word_count = Counter(words)\n",
    "print(dict(word_count))"
   ]
  },
  {
   "cell_type": "markdown",
   "metadata": {},
   "source": [
    "### fronzenset"
   ]
  },
  {
   "cell_type": "code",
   "execution_count": null,
   "metadata": {},
   "outputs": [],
   "source": [
    "my_set = set([1, 2, 3, 4, 5, 1, 2, 3])\n",
    "my_set"
   ]
  },
  {
   "cell_type": "code",
   "execution_count": null,
   "metadata": {},
   "outputs": [],
   "source": [
    "my_set.add(1)\n",
    "my_set"
   ]
  },
  {
   "cell_type": "code",
   "execution_count": null,
   "metadata": {},
   "outputs": [],
   "source": [
    "my_set.add(6)\n",
    "my_set"
   ]
  },
  {
   "cell_type": "code",
   "execution_count": null,
   "metadata": {},
   "outputs": [],
   "source": [
    "my_set.remove(2)\n",
    "my_set"
   ]
  },
  {
   "cell_type": "code",
   "execution_count": null,
   "metadata": {},
   "outputs": [],
   "source": [
    "my_frozenset = frozenset([1, 2, 3, 4, 5, 1, 2, 3])\n",
    "my_frozenset"
   ]
  },
  {
   "cell_type": "code",
   "execution_count": null,
   "metadata": {},
   "outputs": [],
   "source": [
    "my_frozenset.add(6)"
   ]
  },
  {
   "cell_type": "code",
   "execution_count": null,
   "metadata": {},
   "outputs": [],
   "source": [
    "my_frozenset.remove(2)"
   ]
  },
  {
   "cell_type": "code",
   "execution_count": null,
   "metadata": {},
   "outputs": [],
   "source": [
    "my_tuple = 1, 2, 3, 4, 5\n",
    "my_tuple.count(2)"
   ]
  },
  {
   "cell_type": "code",
   "execution_count": null,
   "metadata": {},
   "outputs": [],
   "source": [
    "my_tuple = 1, 2, 3, 4, 5, 1\n",
    "my_tuple"
   ]
  },
  {
   "cell_type": "markdown",
   "metadata": {},
   "source": [
    "### Which data structure to use?\n",
    "\n",
    "![](https://mermaid.ink/img/pako:eNp1kctugzAQRX_FmjWJSCBAWLTKo4_0tWjURQtZOGFokMBOzaCWAP9eQ9Q0SlVvPJpz5_rKU8FGRgg-xKn83Gy5IvbwHKpQMH0mwZJ0Z8V6vQs2rR4L4usUL5sfPu1A_Yp5zWbVi0g-CmQJYZb_0TzJms2rmRTEE5Ef6ezE4SrIkVZnpJ27DtIkJ4OtS0KuFC-PovlB1AJtcBN0xTnNSdXsNtDXOZmIsmaLf4IvTqLdBbGSexSnARe_Ae8DKnYprsCADFXGk0h_aNXKQqAtZhiCr8sIY16kFEIoGi3lBcllKTbgkyrQgGIXccJ5wt8Vz8CPeZrr7o4L8Cv4An9g2n1v4A4s07S8seU4BpRtd9wf2q7pDD1nPPTssdUYsJdSO5h91_ZM2xqZluuNbM-2DMAoIakeDzvvVt898dYNtDmab_TcpGw?type=png)"
   ]
  },
  {
   "cell_type": "markdown",
   "metadata": {},
   "source": [
    "[<< 01. Recap of basics of Python](01_python_basic_recap.ipynb) | [Index](00_index.ipynb) | [03. Using command line arguments >>](03_command_line_arguments.ipynb)"
   ]
  }
 ],
 "metadata": {
  "kernelspec": {
   "display_name": "Python 3 (ipykernel)",
   "language": "python",
   "name": "python3"
  },
  "language_info": {
   "codemirror_mode": {
    "name": "ipython",
    "version": 3
   },
   "file_extension": ".py",
   "mimetype": "text/x-python",
   "name": "python",
   "nbconvert_exporter": "python",
   "pygments_lexer": "ipython3",
   "version": "3.10.8"
  }
 },
 "nbformat": 4,
 "nbformat_minor": 4
}
