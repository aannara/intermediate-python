{
 "cells": [
  {
   "cell_type": "markdown",
   "metadata": {
    "tags": []
   },
   "source": [
    "# Course Content\n",
    "\n",
    "### Day 1\n",
    "1. [Recap of basics of Python](01_python_basic_recap.ipynb)\n",
    "2. [Useful builtin functions](02_builtin_python_functions.ipynb)\n",
    "3. [Using command line arguments](03_command_line_arguments.ipynb)\n",
    "4. [Dunder methods](04_dunder_methods.ipynb)\n",
    "5. [Creating constants and enumerations](05_creating_constants_and_enumerations.ipynb)\n",
    "### Day 2\n",
    "6. [Sequence, Iterables, Iterators and Generators](06_sequence_iterators_and_generators.ipynb)\n",
    "7. [Decorators](07_decorators.ipynb)\n",
    "8. [Context Managers](08_context_managers.ipynb)\n",
    "9. [dis module](09_dis_module.ipynb)\n",
    "10. [Concurrent programming (Part I)](10_concurrent_programming_part_i.ipynb)\n",
    "### Day 3\n",
    "11. [Concurrent programming (Part II)](11_concurrent_programming_part_ii.ipynb)\n",
    "12. [Builtin database in Python: SQLite](12_using_a_database.ipynb)\n",
    "13. [Using an API with Python](13_using_an_api.ipynb)\n",
    "14. [Sending an email using Python](14_sending_an_email.ipynb)\n",
    "15. [Logging in Python](15_logging.ipynb)\n",
    "### Day 4\n",
    "16. [Debugging in Python](16_debugging.ipynb)\n",
    "17. [Testing in Python](17_testing.ipynb)\n",
    "18. [Virtual environment in Python](18_virtual_environment.ipynb)\n",
    "19. [Packaging an application in Python](19_packaging.ipynb)\n"
   ]
  },
  {
   "cell_type": "markdown",
   "metadata": {},
   "source": [
    "[1. Recap of basics of Python >>](01_python_basic_recap.ipynb)"
   ]
  }
 ],
 "metadata": {
  "kernelspec": {
   "display_name": "Python 3 (ipykernel)",
   "language": "python",
   "name": "python3"
  },
  "language_info": {
   "codemirror_mode": {
    "name": "ipython",
    "version": 3
   },
   "file_extension": ".py",
   "mimetype": "text/x-python",
   "name": "python",
   "nbconvert_exporter": "python",
   "pygments_lexer": "ipython3",
   "version": "3.10.8"
  }
 },
 "nbformat": 4,
 "nbformat_minor": 4
}
