{
 "cells": [
  {
   "cell_type": "markdown",
   "metadata": {},
   "source": [
    "[Index](00_index.ipynb) | [02. Useful builtin functions >>](02_builtin_python_functions.ipynb)"
   ]
  },
  {
   "cell_type": "markdown",
   "metadata": {},
   "source": [
    "# Recap of basics of Python"
   ]
  },
  {
   "cell_type": "markdown",
   "metadata": {},
   "source": [
    "### Checkout my repo for complete materials: [basic-python](https://github.com/aannara/intermediate-python) ✨✨"
   ]
  },
  {
   "cell_type": "code",
   "execution_count": null,
   "metadata": {},
   "outputs": [],
   "source": [
    "import this"
   ]
  },
  {
   "cell_type": "markdown",
   "metadata": {},
   "source": [
    "## Basic Data types"
   ]
  },
  {
   "cell_type": "code",
   "execution_count": null,
   "metadata": {},
   "outputs": [],
   "source": [
    "a = 123     # This is an int\n",
    "b = 123.45  # This is a float\n",
    "c = \"hello\" # This is a str\n",
    "d = True    # This is a boolean"
   ]
  },
  {
   "cell_type": "code",
   "execution_count": null,
   "metadata": {},
   "outputs": [],
   "source": [
    "print(type(a))\n",
    "print(type(b))\n",
    "print(type(c))\n",
    "print(type(d))"
   ]
  },
  {
   "cell_type": "code",
   "execution_count": null,
   "metadata": {},
   "outputs": [],
   "source": [
    "isinstance(a, float)"
   ]
  },
  {
   "cell_type": "markdown",
   "metadata": {},
   "source": [
    "### Naming variables"
   ]
  },
  {
   "cell_type": "markdown",
   "metadata": {},
   "source": [
    "- A variable name must start with a letter or the underscore character\n",
    "- A variable name cannot start with a number\n",
    "- A variable name can only contain alpha-numeric characters and underscores (A-z, 0-9, and _ )\n",
    "- Variable names are case-sensitive\n",
    "- A variable name should not be any of the Python keywords"
   ]
  },
  {
   "cell_type": "code",
   "execution_count": null,
   "metadata": {},
   "outputs": [],
   "source": [
    "# These are variables valid\n",
    "\n",
    "name = \"Jeff\"\n",
    "NAME = \"Not Jeff\"\n",
    "_hidden_name = \"Secret\"\n",
    "value1 = \"value1\"\n",
    "API_KEY = \"api-key%$@@%^^&(#@(#\""
   ]
  },
  {
   "cell_type": "code",
   "execution_count": null,
   "metadata": {},
   "outputs": [],
   "source": [
    "# These are variables invalid\n",
    "\n",
    "1intel = \"1intel\"\n",
    "ci-cd = \"ci-cd\"\n",
    "one intel = \"one intel\""
   ]
  },
  {
   "cell_type": "markdown",
   "metadata": {},
   "source": [
    "### Arithematic Operators"
   ]
  },
  {
   "cell_type": "code",
   "execution_count": null,
   "metadata": {},
   "outputs": [],
   "source": [
    "a = 8\n",
    "b = 5\n",
    "\n",
    "print(a + b)\n",
    "print(a - b)\n",
    "print(a * b)\n",
    "print(a / b) # Normal division\n",
    "print(a // b) # Integer division\n",
    "print(a ** b) # 8 * 8 * 8 * 8 * 8\n",
    "print(a % b) # Modulus"
   ]
  },
  {
   "cell_type": "markdown",
   "metadata": {},
   "source": [
    "### Comparison Operator"
   ]
  },
  {
   "cell_type": "code",
   "execution_count": null,
   "metadata": {},
   "outputs": [],
   "source": [
    "a = 8\n",
    "b = 5\n",
    "\n",
    "print(a == a)\n",
    "print(a == b)\n",
    "print(a != b)\n",
    "print(a > b)\n",
    "print(a < b)\n",
    "print(a >= b)\n",
    "print(a <= b)"
   ]
  },
  {
   "cell_type": "markdown",
   "metadata": {},
   "source": [
    "### Bitwise Operators"
   ]
  },
  {
   "cell_type": "code",
   "execution_count": null,
   "metadata": {},
   "outputs": [],
   "source": [
    "a, b = 5, 6\n",
    "\n",
    "print(a & b)\n",
    "print(a | b)\n",
    "print(a ^ b)\n",
    "print(~a)\n",
    "print(a << b)\n",
    "print(a >> b)"
   ]
  },
  {
   "cell_type": "markdown",
   "metadata": {},
   "source": [
    "### Getting help - help"
   ]
  },
  {
   "cell_type": "code",
   "execution_count": null,
   "metadata": {},
   "outputs": [],
   "source": [
    "help(int)"
   ]
  },
  {
   "cell_type": "markdown",
   "metadata": {},
   "source": [
    "### Listing available properties and methods of an object - dir"
   ]
  },
  {
   "cell_type": "code",
   "execution_count": null,
   "metadata": {},
   "outputs": [],
   "source": [
    "dir(str)"
   ]
  },
  {
   "cell_type": "markdown",
   "metadata": {},
   "source": [
    "## Lists, Tuples, Sets and Dictionaries"
   ]
  },
  {
   "cell_type": "markdown",
   "metadata": {},
   "source": [
    "### Lists"
   ]
  },
  {
   "cell_type": "code",
   "execution_count": null,
   "metadata": {},
   "outputs": [],
   "source": [
    "a = [1, 2, 3]\n",
    "b = [\"b\", \"c\", \"a\"]\n",
    "c = [1, 1.23, \"abc\", a, [4, 5, 6]]\n",
    "d = []"
   ]
  },
  {
   "cell_type": "code",
   "execution_count": null,
   "metadata": {},
   "outputs": [],
   "source": [
    "print(a)\n",
    "\n",
    "print(a[0], a[1], a[2])\n",
    "\n",
    "a[1] = 10\n",
    "print(a)\n",
    "\n",
    "a.append(4)\n",
    "print(a)\n",
    "\n",
    "a.insert(1, 1.5)\n",
    "print(a)\n",
    "\n",
    "a.insert(1, 1.5)\n",
    "print(a)"
   ]
  },
  {
   "cell_type": "code",
   "execution_count": null,
   "metadata": {},
   "outputs": [],
   "source": [
    "num_list = [1, 2, 2, 3, 4, 2, 5, 6]\n",
    "print(num_list.count(2))\n",
    "\n",
    "print(num_list[2:5])"
   ]
  },
  {
   "cell_type": "markdown",
   "metadata": {},
   "source": [
    "### Tuples"
   ]
  },
  {
   "cell_type": "code",
   "execution_count": null,
   "metadata": {},
   "outputs": [],
   "source": [
    "my_tuple = (1, 2, 3, 4, 2, 2)\n",
    "print(my_tuple.count(2))\n",
    "print(my_tuple.index(2))\n",
    "print(my_tuple[3])"
   ]
  },
  {
   "cell_type": "markdown",
   "metadata": {},
   "source": [
    "### Tuple unpacking"
   ]
  },
  {
   "cell_type": "code",
   "execution_count": null,
   "metadata": {},
   "outputs": [],
   "source": [
    "my_tuple = 1, 2, 3, 4, 5\n",
    "a, b, c, d, e = my_tuple\n",
    "print(a, b, c, d, e)"
   ]
  },
  {
   "cell_type": "markdown",
   "metadata": {},
   "source": [
    "### Sets"
   ]
  },
  {
   "cell_type": "code",
   "execution_count": null,
   "metadata": {},
   "outputs": [],
   "source": [
    "my_set = {1, 2, 3, 4}\n",
    "print(my_set)\n",
    "\n",
    "my_set.add(5)\n",
    "print(my_set)\n",
    "\n",
    "my_set.add(1)\n",
    "print(my_set)"
   ]
  },
  {
   "cell_type": "code",
   "execution_count": null,
   "metadata": {},
   "outputs": [],
   "source": [
    "set1 = {1, 2, 3, 4, 5}\n",
    "set2 = {4, 5, 6}\n",
    "\n",
    "print(set1 - set2)\n",
    "print(set2 - set1)\n",
    "print(set1.union(set2))\n",
    "print(set1.intersection(set2))"
   ]
  },
  {
   "cell_type": "markdown",
   "metadata": {},
   "source": [
    "### Dictionaries"
   ]
  },
  {
   "cell_type": "code",
   "execution_count": null,
   "metadata": {},
   "outputs": [],
   "source": [
    "sample_dict = {\"one\": 1, \"two\": 2, \"three\": 3}\n",
    "\n",
    "print(sample_dict[\"one\"])\n",
    "print(sample_dict.get(\"two\"))\n",
    "print(sample_dict.get(\"four\", 4))"
   ]
  },
  {
   "cell_type": "code",
   "execution_count": null,
   "metadata": {},
   "outputs": [],
   "source": [
    "sample_dict[\"four\"] = 4\n",
    "print(sample_dict)"
   ]
  },
  {
   "cell_type": "code",
   "execution_count": null,
   "metadata": {},
   "outputs": [],
   "source": [
    "print(sample_dict.keys())"
   ]
  },
  {
   "cell_type": "code",
   "execution_count": null,
   "metadata": {},
   "outputs": [],
   "source": [
    "print(sample_dict.values())"
   ]
  },
  {
   "cell_type": "code",
   "execution_count": null,
   "metadata": {},
   "outputs": [],
   "source": [
    "print(sample_dict.items())"
   ]
  },
  {
   "cell_type": "code",
   "execution_count": null,
   "metadata": {},
   "outputs": [],
   "source": [
    "dict_of_items = {\n",
    "    \"list1\": [1, 2, 3, 4 ,5],\n",
    "    \"set1\": {10, 20, 30},\n",
    "    \"dict1\": {\"a\": 1, \"b\": 2, \"c\": 3},\n",
    "}\n",
    "print(dict_of_items)"
   ]
  },
  {
   "cell_type": "code",
   "execution_count": null,
   "metadata": {},
   "outputs": [],
   "source": [
    "dict_of_items.update({\"one\": 1, \"two\": 2})\n",
    "print(dict_of_items)"
   ]
  },
  {
   "cell_type": "code",
   "execution_count": null,
   "metadata": {},
   "outputs": [],
   "source": [
    "dict_of_items.popitem()"
   ]
  },
  {
   "cell_type": "code",
   "execution_count": null,
   "metadata": {},
   "outputs": [],
   "source": [
    "dict_of_items.pop(\"set1\")"
   ]
  },
  {
   "cell_type": "markdown",
   "metadata": {},
   "source": [
    "## Data flow control"
   ]
  },
  {
   "cell_type": "code",
   "execution_count": null,
   "metadata": {},
   "outputs": [],
   "source": [
    "a = 46\n",
    "if a % 10 == 0:\n",
    "    print(\"The number is a multiple of 10\")\n",
    "elif a % 12 == 0:\n",
    "    print(\"The number is a multiple of 12\")\n",
    "elif a % 15 == 0:\n",
    "    print(\"The number is a multiple of 15\")\n",
    "else:\n",
    "    print(\"The number is not a multiple of 10, 12 or 15\")"
   ]
  },
  {
   "cell_type": "code",
   "execution_count": null,
   "metadata": {},
   "outputs": [],
   "source": [
    "for item in range(10):\n",
    "    print(item)"
   ]
  },
  {
   "cell_type": "code",
   "execution_count": null,
   "metadata": {},
   "outputs": [],
   "source": [
    "for index, element in enumerate([1, 3, 5, 7, 9]):\n",
    "    print(index, element)"
   ]
  },
  {
   "cell_type": "code",
   "execution_count": null,
   "metadata": {},
   "outputs": [],
   "source": [
    "name = input(\"Enter your name: \")\n",
    "if name == \"\":\n",
    "    print(\"No name was entered!!!\")\n",
    "else:\n",
    "    print(f\"Hello {name}\")"
   ]
  },
  {
   "cell_type": "code",
   "execution_count": null,
   "metadata": {},
   "outputs": [],
   "source": [
    "for item in [1, 3, 5, 6, 8, 10, 12]:\n",
    "    if item % 2 == 0:\n",
    "        print(\"Even number found!\")\n",
    "        break\n",
    "    else:\n",
    "        print(item)"
   ]
  },
  {
   "cell_type": "code",
   "execution_count": null,
   "metadata": {},
   "outputs": [],
   "source": [
    "for item in range(10):\n",
    "    if item % 2 == 0:\n",
    "        continue\n",
    "    print(item)"
   ]
  },
  {
   "cell_type": "code",
   "execution_count": null,
   "metadata": {},
   "outputs": [],
   "source": [
    "for item in [1, 3, 5, 7, 9]:\n",
    "    if item % 2 == 0:\n",
    "        print(item)\n",
    "else:\n",
    "    print(\"There are no even numbers in the list!\")"
   ]
  },
  {
   "cell_type": "code",
   "execution_count": null,
   "metadata": {},
   "outputs": [],
   "source": [
    "num_list = [1, 2, 3, 4, 5]\n",
    "count = 0\n",
    "while count != len(num_list):\n",
    "    print(num_list[count])\n",
    "    count += 1\n",
    "else:\n",
    "    print(\"All elements have been printed\")"
   ]
  },
  {
   "cell_type": "code",
   "execution_count": null,
   "metadata": {},
   "outputs": [],
   "source": [
    "num_list = [1, 2, 3, 4, 5]\n",
    "count = 0\n",
    "while count != len(num_list):\n",
    "    print(num_list[count])\n",
    "    count += 1\n",
    "\n",
    "    if num_list[count] == 4:\n",
    "        break\n",
    "else:\n",
    "    print(\"All elements have been printed\")"
   ]
  },
  {
   "cell_type": "markdown",
   "metadata": {},
   "source": [
    "## String formatting"
   ]
  },
  {
   "cell_type": "code",
   "execution_count": null,
   "metadata": {},
   "outputs": [],
   "source": [
    "num1, num2 = 1, 2\n",
    "print(\"num1={0}, num2={1}\".format(num1, num2))"
   ]
  },
  {
   "cell_type": "code",
   "execution_count": null,
   "metadata": {},
   "outputs": [],
   "source": [
    "num1, num2 = 1, 2\n",
    "print(\"num1={}, num2={}\".format(num1, num2))"
   ]
  },
  {
   "cell_type": "code",
   "execution_count": null,
   "metadata": {},
   "outputs": [],
   "source": [
    "print(f\"num1={num1}, num2={num2}\")"
   ]
  },
  {
   "cell_type": "code",
   "execution_count": null,
   "metadata": {},
   "outputs": [],
   "source": [
    "print(f\"{num1=}, {num2=}\")"
   ]
  },
  {
   "cell_type": "code",
   "execution_count": null,
   "metadata": {},
   "outputs": [],
   "source": [
    "42572654"
   ]
  },
  {
   "cell_type": "code",
   "execution_count": null,
   "metadata": {},
   "outputs": [],
   "source": [
    "42_572_654"
   ]
  },
  {
   "cell_type": "code",
   "execution_count": null,
   "metadata": {},
   "outputs": [],
   "source": [
    "yes_votes = 42_572_654\n",
    "no_votes = 43_132_495\n",
    "percentage = yes_votes / (yes_votes + no_votes)\n",
    "f\"{percentage=:2.2%}\""
   ]
  },
  {
   "cell_type": "markdown",
   "metadata": {},
   "source": [
    "## Regular expressions"
   ]
  },
  {
   "cell_type": "markdown",
   "metadata": {},
   "source": [
    "### Special Characters:\n",
    "```python\n",
    ".   - (Dot) Matches any character\n",
    "*   - Matches 0 or more characters\n",
    "+   - Matches 1 or more characters\n",
    "?   - Matches 0 or 1 repetitions\n",
    "^   - Matches start of the string\n",
    "$   - Matches the end of the string\n",
    "[]  - To define a set of characters\n",
    "|   - Pattern A or Pattern B\n",
    "()  - Grouping of patterns\n",
    "\\   - Escape character\n",
    "\\d - Matches any decimal digit\n",
    "\\D - Matches any non-digit character\n",
    "\\s - Matches any whitespace character\n",
    "\\S - Matches any non-whitespace character\n",
    "\\w - Matches any alphanumeric character\n",
    "\\W - Matches any non-alphanumeric character\n",
    "```"
   ]
  },
  {
   "cell_type": "code",
   "execution_count": null,
   "metadata": {},
   "outputs": [],
   "source": [
    "import re"
   ]
  },
  {
   "cell_type": "code",
   "execution_count": null,
   "metadata": {},
   "outputs": [],
   "source": [
    "input_string = \"\"\"Here's my phone number: 12345-34355. Did you write it down?.\n",
    "                I can give you my second number also: 22333-66645.\"\"\"\n",
    "pattern = \"\\d+-\\d+\"\n",
    "\n",
    "result = re.search(pattern, input_string)\n",
    "print(result)\n",
    "print(result.group())"
   ]
  },
  {
   "cell_type": "code",
   "execution_count": null,
   "metadata": {},
   "outputs": [],
   "source": [
    "input_string = \"\"\"Here's my phone number: 12345-34355. Did you write it down?.\n",
    "                I can give you my second number also: 22333-66645.\"\"\"\n",
    "pattern = \"\\d+-\\d+\"\n",
    "\n",
    "result = re.findall(pattern, input_string)\n",
    "print(result)"
   ]
  },
  {
   "cell_type": "markdown",
   "metadata": {},
   "source": [
    "## Object Oriented Programming"
   ]
  },
  {
   "cell_type": "markdown",
   "metadata": {},
   "source": [
    "Object oriented programming is a concept of programming using classes and objects rather than functions and variables.\n",
    "\n",
    "You can use OOP to structure a program into simple and reusable pieces which can be used to create individual instances of objects.\n",
    "\n",
    "Converting a complex problem into an object oriented model makes it very easy to understand, write code for it and extend when needed.\n",
    "\n",
    "### Object Oriented Programming Building blocks:\n",
    "- Class\n",
    "- Object\n",
    "- Attribute\n",
    "- Method\n",
    "\n",
    "### Object Oriented Programming Concepts:\n",
    "- Abstraction\n",
    "- Encapsulation\n",
    "- Inheritance\n",
    "- Polymorphism"
   ]
  },
  {
   "cell_type": "markdown",
   "metadata": {},
   "source": [
    "## Exception Handling"
   ]
  },
  {
   "cell_type": "code",
   "execution_count": null,
   "metadata": {},
   "outputs": [],
   "source": [
    "num_list = []\n",
    "\n",
    "try:\n",
    "    num_list = [0, 1, 2, 3, 4, 5]\n",
    "    \n",
    "    print(10/num_list[0])\n",
    "\n",
    "    value = \"2\"\n",
    "    print(value + num_list[0])\n",
    "\n",
    "except (ZeroDivisionError, TypeError):\n",
    "    print(\"[ERROR]: Values in num_list does not meet the requirements\")\n",
    "\n",
    "else:\n",
    "    print(\"Successfully processed num_list\")\n",
    "\n",
    "finally:\n",
    "    print(\"Resetting num_list back to empty\")\n",
    "    num_list = []"
   ]
  },
  {
   "cell_type": "markdown",
   "metadata": {},
   "source": [
    "## File Handling"
   ]
  },
  {
   "cell_type": "code",
   "execution_count": null,
   "metadata": {},
   "outputs": [],
   "source": [
    "from pathlib import Path"
   ]
  },
  {
   "cell_type": "code",
   "execution_count": null,
   "metadata": {},
   "outputs": [],
   "source": [
    "hello_file = Path(\"example/hello.py\")\n",
    "data = open(hello_file)\n",
    "print(data.read())\n",
    "data.close()"
   ]
  },
  {
   "cell_type": "code",
   "execution_count": null,
   "metadata": {},
   "outputs": [],
   "source": [
    "hello_file = Path(\"example/hello.py\")\n",
    "print(hello_file.read_text())"
   ]
  },
  {
   "cell_type": "code",
   "execution_count": null,
   "metadata": {},
   "outputs": [],
   "source": [
    "new_file = Path(\"example/new_file.txt\")\n",
    "new_file.write_text(\"This is my new data\")"
   ]
  },
  {
   "cell_type": "code",
   "execution_count": null,
   "metadata": {},
   "outputs": [],
   "source": [
    "hello_file = Path(\"example/hello.py\")\n",
    "new_file = Path(\"example/new_file.py\")\n",
    "\n",
    "with open(hello_file) as read_fp,  open(new_file, \"w\") as write_fp:\n",
    "    for data in read_fp.read().splitlines():\n",
    "        if data != \"\":\n",
    "            print(data, file=write_fp)"
   ]
  },
  {
   "cell_type": "markdown",
   "metadata": {},
   "source": [
    "### Checkout my repo for complete materials: [basic-python](https://github.com/aannara/intermediate-python) ✨✨"
   ]
  },
  {
   "cell_type": "markdown",
   "metadata": {},
   "source": [
    "[Index](00_index.ipynb) | [02. Useful builtin functions >>](02_builtin_python_functions.ipynb)"
   ]
  }
 ],
 "metadata": {
  "kernelspec": {
   "display_name": "Python 3 (ipykernel)",
   "language": "python",
   "name": "python3"
  },
  "language_info": {
   "codemirror_mode": {
    "name": "ipython",
    "version": 3
   },
   "file_extension": ".py",
   "mimetype": "text/x-python",
   "name": "python",
   "nbconvert_exporter": "python",
   "pygments_lexer": "ipython3",
   "version": "3.10.8"
  }
 },
 "nbformat": 4,
 "nbformat_minor": 4
}
