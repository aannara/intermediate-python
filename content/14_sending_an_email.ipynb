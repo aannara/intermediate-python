{
 "cells": [
  {
   "cell_type": "markdown",
   "metadata": {},
   "source": [
    "[<< 13. Using an API with Python](13_using_an_api.ipynb) | [Index](00_index.ipynb) | [15. Logging in Python >>](15_logging.ipynb)"
   ]
  },
  {
   "cell_type": "markdown",
   "metadata": {},
   "source": [
    "# Sending an email"
   ]
  },
  {
   "cell_type": "markdown",
   "metadata": {},
   "source": [
    "## Using smtplib module"
   ]
  },
  {
   "cell_type": "code",
   "execution_count": null,
   "metadata": {},
   "outputs": [],
   "source": [
    "from getpass import getpass\n",
    "import smtplib\n",
    "from email.mime.multipart import MIMEMultipart\n",
    "from email.mime.text import MIMEText\n",
    " \n",
    "msg = MIMEMultipart()\n",
    "msg['Subject'] = \"Subject\" \n",
    "msg['From'] = \"PythonIntermediate@intel.com\"\n",
    "msg['To'] = \"aadithya.varma@intel.com\"\n",
    "password = getpass()\n",
    "body = \"Email body\"\n",
    " \n",
    "s = smtplib.SMTP('ip', 1234)\n",
    "s.starttls()\n",
    "s.login(msg['To'], password)\n",
    "msg.attach(MIMEText(body, 'plain'))\n",
    "txt = msg.as_string()\n",
    "s.sendmail(msg['From'], msg['To'], txt)"
   ]
  },
  {
   "cell_type": "markdown",
   "metadata": {},
   "source": [
    "## Using win32 module"
   ]
  },
  {
   "cell_type": "code",
   "execution_count": null,
   "metadata": {},
   "outputs": [],
   "source": [
    "import win32com.client as win32\n",
    "outlook=win32.Dispatch('outlook.application')\n",
    "mail=outlook.CreateItem(0)\n",
    "mail.To='aadithya.varma@intel.com'\n",
    "mail.Subject='Message subject'\n",
    "mail.Body='Message body'\n",
    "mail.HTMLBody='<h2>HTML Message body</h2>' #this field is optional\n",
    "\n",
    "# To attach a file to the email (optional):\n",
    "# attachment=\"Path to the attachment\"\n",
    "# mail.Attachments.Add(attachment)\n",
    "\n",
    "mail.Send()"
   ]
  },
  {
   "cell_type": "markdown",
   "metadata": {},
   "source": [
    "## 3rd party libraries to send emails\n",
    "\n",
    "- yagmail: https://github.com/kootenpv/yagmail\n",
    "- redmail: https://red-mail.readthedocs.io/en/stable/tutorials/sending.html"
   ]
  },
  {
   "cell_type": "markdown",
   "metadata": {},
   "source": [
    "[<< 13. Using an API with Python](13_using_an_api.ipynb) | [Index](00_index.ipynb) | [15. Logging in Python >>](15_logging.ipynb)"
   ]
  }
 ],
 "metadata": {
  "kernelspec": {
   "display_name": "Python 3 (ipykernel)",
   "language": "python",
   "name": "python3"
  },
  "language_info": {
   "codemirror_mode": {
    "name": "ipython",
    "version": 3
   },
   "file_extension": ".py",
   "mimetype": "text/x-python",
   "name": "python",
   "nbconvert_exporter": "python",
   "pygments_lexer": "ipython3",
   "version": "3.10.8"
  }
 },
 "nbformat": 4,
 "nbformat_minor": 4
}
