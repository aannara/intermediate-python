{
 "cells": [
  {
   "cell_type": "markdown",
   "metadata": {},
   "source": [
    "[<< 14. Sending an email using Python](14_sending_an_email.ipynb) | [Index](00_index.ipynb) | [16. Debugging in Python >>](16_debugging.ipynb)"
   ]
  },
  {
   "cell_type": "markdown",
   "metadata": {},
   "source": [
    "# Logging"
   ]
  },
  {
   "cell_type": "markdown",
   "metadata": {},
   "source": [
    "Logging is a means of tracking events that happen when some software runs. The software’s developer adds logging calls to their code to indicate that certain events have occurred. An event is described by a descriptive message which can optionally contain variable data (i.e. data that is potentially different for each occurrence of the event). Events also have an importance which the developer ascribes to the event; the importance can also be called the level or severity."
   ]
  },
  {
   "cell_type": "markdown",
   "metadata": {},
   "source": [
    "The logging module offers a full featured and flexible logging system. At its simplest, log messages are sent to a file or to `sys.stderr`:\n",
    "\n",
    "```python\n",
    "import logging\n",
    "logging.debug('Debugging information')\n",
    "logging.info('Informational message')\n",
    "logging.warning('Warning:config file %s not found', 'server.conf')\n",
    "logging.error('Error occurred')\n",
    "logging.critical('Critical error -- shutting down')\n",
    "```"
   ]
  },
  {
   "cell_type": "code",
   "execution_count": null,
   "metadata": {},
   "outputs": [],
   "source": [
    "import logging\n",
    "logging.debug('Debugging information')\n",
    "logging.info('Informational message')\n",
    "logging.warning('Warning:config file %s not found', 'server.conf')\n",
    "logging.error('Error occurred')\n",
    "logging.critical('Critical error -- shutting down')"
   ]
  },
  {
   "cell_type": "code",
   "execution_count": null,
   "metadata": {},
   "outputs": [],
   "source": [
    "print(\"[INFO]: Informational message\")\n",
    "print(\"[ERROR]: Error Occurred\")"
   ]
  },
  {
   "cell_type": "markdown",
   "metadata": {},
   "source": [
    "## When to use logging"
   ]
  },
  {
   "cell_type": "markdown",
   "metadata": {},
   "source": [
    "<table class=\"docutils align-default\">\n",
    "<colgroup>\n",
    "<col style=\"width: 49%\" />\n",
    "<col style=\"width: 51%\" />\n",
    "</colgroup>\n",
    "<thead>\n",
    "<tr class=\"row-odd\"><th class=\"head\"><p>Task you want to perform</p></th>\n",
    "<th class=\"head\"><p>The best tool for the task</p></th>\n",
    "</tr>\n",
    "</thead>\n",
    "<tbody>\n",
    "<tr class=\"row-even\"><td><p>Display console output for ordinary\n",
    "usage of a command line script or\n",
    "program</p></td>\n",
    "<td><p><a class=\"reference internal\" href=\"../library/functions.html#print\" title=\"print\"><code class=\"xref py py-func docutils literal notranslate\"><span class=\"pre\">print()</span></code></a></p></td>\n",
    "</tr>\n",
    "<tr class=\"row-odd\"><td><p>Report events that occur during\n",
    "normal operation of a program (e.g.\n",
    "for status monitoring or fault\n",
    "investigation)</p></td>\n",
    "<td><p><a class=\"reference internal\" href=\"../library/logging.html#logging.info\" title=\"logging.info\"><code class=\"xref py py-func docutils literal notranslate\"><span class=\"pre\">logging.info()</span></code></a> (or\n",
    "<a class=\"reference internal\" href=\"../library/logging.html#logging.debug\" title=\"logging.debug\"><code class=\"xref py py-func docutils literal notranslate\"><span class=\"pre\">logging.debug()</span></code></a> for very\n",
    "detailed output for diagnostic\n",
    "purposes)</p></td>\n",
    "</tr>\n",
    "<tr class=\"row-even\"><td><p>Issue a warning regarding a\n",
    "particular runtime event</p></td>\n",
    "<td><p><a class=\"reference internal\" href=\"../library/warnings.html#warnings.warn\" title=\"warnings.warn\"><code class=\"xref py py-func docutils literal notranslate\"><span class=\"pre\">warnings.warn()</span></code></a> in library\n",
    "code if the issue is avoidable and\n",
    "the client application should be\n",
    "modified to eliminate the warning</p>\n",
    "<p><a class=\"reference internal\" href=\"../library/logging.html#logging.warning\" title=\"logging.warning\"><code class=\"xref py py-func docutils literal notranslate\"><span class=\"pre\">logging.warning()</span></code></a> if there is\n",
    "nothing the client application can do\n",
    "about the situation, but the event\n",
    "should still be noted</p>\n",
    "</td>\n",
    "</tr>\n",
    "<tr class=\"row-odd\"><td><p>Report an error regarding a\n",
    "particular runtime event</p></td>\n",
    "<td><p>Raise an exception</p></td>\n",
    "</tr>\n",
    "<tr class=\"row-even\"><td><p>Report suppression of an error\n",
    "without raising an exception (e.g.\n",
    "error handler in a long-running\n",
    "server process)</p></td>\n",
    "<td><p><a class=\"reference internal\" href=\"../library/logging.html#logging.error\" title=\"logging.error\"><code class=\"xref py py-func docutils literal notranslate\"><span class=\"pre\">logging.error()</span></code></a>,\n",
    "<a class=\"reference internal\" href=\"../library/logging.html#logging.exception\" title=\"logging.exception\"><code class=\"xref py py-func docutils literal notranslate\"><span class=\"pre\">logging.exception()</span></code></a> or\n",
    "<a class=\"reference internal\" href=\"../library/logging.html#logging.critical\" title=\"logging.critical\"><code class=\"xref py py-func docutils literal notranslate\"><span class=\"pre\">logging.critical()</span></code></a> as\n",
    "appropriate for the specific error\n",
    "and application domain</p></td>\n",
    "</tr>\n",
    "</tbody>\n",
    "</table>\n",
    "\n",
    "## Log levels\n",
    "\n",
    "The logging functions are named after the level or severity of the events they are used to track. The standard levels and their applicability are described below (in increasing order of severity)\n",
    "\n",
    "<table class=\"docutils align-default\">\n",
    "<colgroup>\n",
    "<col style=\"width: 24%\" />\n",
    "<col style=\"width: 76%\" />\n",
    "</colgroup>\n",
    "<thead>\n",
    "<tr class=\"row-odd\"><th class=\"head\"><p>Level</p></th>\n",
    "<th class=\"head\"><p>When it’s used</p></th>\n",
    "</tr>\n",
    "</thead>\n",
    "<tbody>\n",
    "<tr class=\"row-even\"><td><p><code class=\"docutils literal notranslate\"><span class=\"pre\">DEBUG</span></code></p></td>\n",
    "<td><p>Detailed information, typically of interest\n",
    "only when diagnosing problems.</p></td>\n",
    "</tr>\n",
    "<tr class=\"row-odd\"><td><p><code class=\"docutils literal notranslate\"><span class=\"pre\">INFO</span></code></p></td>\n",
    "<td><p>Confirmation that things are working as\n",
    "expected.</p></td>\n",
    "</tr>\n",
    "<tr class=\"row-even\"><td><p><code class=\"docutils literal notranslate\"><span class=\"pre\">WARNING</span></code></p></td>\n",
    "<td><p>An indication that something unexpected\n",
    "happened, or indicative of some problem in\n",
    "the near future (e.g. ‘disk space low’).\n",
    "The software is still working as expected.</p></td>\n",
    "</tr>\n",
    "<tr class=\"row-odd\"><td><p><code class=\"docutils literal notranslate\"><span class=\"pre\">ERROR</span></code></p></td>\n",
    "<td><p>Due to a more serious problem, the software\n",
    "has not been able to perform some function.</p></td>\n",
    "</tr>\n",
    "<tr class=\"row-even\"><td><p><code class=\"docutils literal notranslate\"><span class=\"pre\">EXCEPTION</span></code></p></td>\n",
    "<td><p>Same log level as <code class=\"docutils literal notranslate\"><span class=\"pre\">logging.ERROR</span></code>\n",
    "    but makes it more clear by adding the traceback.</p></td>\n",
    "</tr>\n",
    "<tr class=\"row-odd\"><td><p><code class=\"docutils literal notranslate\"><span class=\"pre\">CRITICAL</span></code></p></td>\n",
    "<td><p>A serious error, indicating that the program\n",
    "itself may be unable to continue running.</p></td>\n",
    "</tr>\n",
    "</tbody>\n",
    "</table>"
   ]
  },
  {
   "cell_type": "markdown",
   "metadata": {},
   "source": [
    "## Simple logging"
   ]
  },
  {
   "cell_type": "code",
   "execution_count": null,
   "metadata": {},
   "outputs": [],
   "source": [
    "import logging\n",
    "logger = logging.getLogger(__name__)\n",
    "\n",
    "logger.setLevel(level=logging.DEBUG)\n",
    "logger.debug('Debugging information')\n",
    "logger.info('Informational message')\n",
    "logger.warning('Warning:config file %s not found', 'server.conf')\n",
    "logger.error('Error occurred')\n",
    "logger.critical('Critical error -- shutting down') "
   ]
  },
  {
   "cell_type": "code",
   "execution_count": null,
   "metadata": {},
   "outputs": [],
   "source": [
    "import logging\n",
    "logger = logging.getLogger(__name__)\n",
    "\n",
    "logger.setLevel(level=logging.ERROR)\n",
    "logger.debug('Debugging information')\n",
    "logger.info('Informational message')\n",
    "logger.warning('Warning:config file %s not found', 'server.conf')\n",
    "logger.error('Error occurred')\n",
    "logger.critical('Critical error -- shutting down') "
   ]
  },
  {
   "cell_type": "markdown",
   "metadata": {},
   "source": [
    "## logging.exception"
   ]
  },
  {
   "cell_type": "code",
   "execution_count": null,
   "metadata": {},
   "outputs": [],
   "source": [
    "def divide_numbers(a, b):\n",
    "    try:\n",
    "        result = a / b\n",
    "    except ZeroDivisionError as e:\n",
    "        logging.error(f\"\\n{a} / {b} throws {e!r}\")\n",
    "    except TypeError as e:\n",
    "        logging.exception(f\"\\n{a} / {b!r} throws {e!r}\")\n",
    "    except Exception as e:\n",
    "        logging.exception(f\"\\n{a:,} / {b} throws {e!r}\")\n",
    "    else:\n",
    "        print(\"\\nDivision result:\", result)\n",
    "    finally:\n",
    "        print(\"Division operation completed.\")\n",
    "\n",
    "divide_numbers(1, 2)\n",
    "# divide_numbers(1, 0)\n",
    "# divide_numbers(1, 'a')"
   ]
  },
  {
   "cell_type": "markdown",
   "metadata": {},
   "source": [
    "## Configuring logging"
   ]
  },
  {
   "cell_type": "code",
   "execution_count": null,
   "metadata": {},
   "outputs": [],
   "source": [
    "import logging\n",
    "\n",
    "# Create a custom logger\n",
    "logger = logging.getLogger(__name__)\n",
    "\n",
    "# Create handlers\n",
    "c_handler = logging.StreamHandler()\n",
    "f_handler = logging.FileHandler('14_logging/simple_logger.log')\n",
    "c_handler.setLevel(logging.WARNING)\n",
    "f_handler.setLevel(logging.ERROR)\n",
    "\n",
    "# Create formatters and add it to handlers\n",
    "c_format = logging.Formatter('%(name)s - %(levelname)s - %(message)s')\n",
    "f_format = logging.Formatter('%(asctime)s - %(name)s - %(levelname)s - %(message)s')\n",
    "c_handler.setFormatter(c_format)\n",
    "f_handler.setFormatter(f_format)\n",
    "\n",
    "# Add handlers to the logger\n",
    "logger.addHandler(c_handler)\n",
    "logger.addHandler(f_handler)"
   ]
  },
  {
   "cell_type": "code",
   "execution_count": null,
   "metadata": {},
   "outputs": [],
   "source": [
    "logger.warning('This is a warning')\n",
    "logger.error('This is an error')"
   ]
  },
  {
   "cell_type": "markdown",
   "metadata": {},
   "source": [
    "## Using a config file to configure logging\n",
    "\n",
    "### Using .ini file\n",
    "\n",
    "\n",
    "```python\n",
    "[loggers]\n",
    "keys=root,sampleLogger\n",
    "\n",
    "[handlers]\n",
    "keys=consoleHandler\n",
    "\n",
    "[formatters]\n",
    "keys=sampleFormatter\n",
    "\n",
    "[logger_root]\n",
    "level=DEBUG\n",
    "handlers=consoleHandler\n",
    "\n",
    "[logger_sampleLogger]\n",
    "level=DEBUG\n",
    "handlers=consoleHandler\n",
    "qualname=sampleLogger\n",
    "propagate=0\n",
    "\n",
    "[handler_consoleHandler]\n",
    "class=StreamHandler\n",
    "level=DEBUG\n",
    "formatter=sampleFormatter\n",
    "args=(sys.stdout,)\n",
    "\n",
    "[formatter_sampleFormatter]\n",
    "format=%(asctime)s - %(name)s - %(levelname)s - %(message)s\n",
    "```\n",
    "\n",
    "**Use the config file like below:**\n",
    "\n",
    "```python\n",
    "import logging\n",
    "import logging.config\n",
    "\n",
    "logging.config.fileConfig(fname='logging.ini', disable_existing_loggers=False)\n",
    "\n",
    "# Get the logger specified in the file\n",
    "logger = logging.getLogger(__name__)\n",
    "\n",
    "logger.debug('This is a debug message')\n",
    "```"
   ]
  },
  {
   "cell_type": "markdown",
   "metadata": {},
   "source": [
    "## Configure logging using a dictionary"
   ]
  },
  {
   "cell_type": "code",
   "execution_count": null,
   "metadata": {},
   "outputs": [],
   "source": [
    "import logging\n",
    "\n",
    "# Create a custom logger\n",
    "logger = logging.getLogger(__name__)\n",
    "\n",
    "class NonErrorFilter(logging.Filter):\n",
    "    \"\"\"Error filter class.\"\"\"\n",
    "\n",
    "    def filter(self, record: logging.LogRecord):\n",
    "        \"\"\"filter method.\n",
    "\n",
    "        Args:\n",
    "            record: log record\n",
    "\n",
    "        Returns:\n",
    "            Boolean based on log level of the record\n",
    "\n",
    "        \"\"\"\n",
    "        return record.levelno < logging.WARNING\n",
    "\n",
    "logging_config = {\n",
    "    \"version\": 1,\n",
    "    \"disable_existing_loggers\": False,\n",
    "    \"formatters\": {\n",
    "        \"cli\": {\n",
    "            \"format\": \"[%(levelname)s] [%(name)s: %(funcName)s: %(lineno)d]: %(message)s\"\n",
    "        },\n",
    "        \"log_file\": {\n",
    "            \"format\": \"[%(levelname)s] %(asctime)s [%(name)s: %(funcName)s: %(lineno)d]: %(message)s\"\n",
    "        },\n",
    "    },\n",
    "    \"filters\": {\n",
    "        \"non_error_filter\": {\"()\": NonErrorFilter},\n",
    "    },\n",
    "    \"handlers\": {\n",
    "        \"stdout\": {\n",
    "            \"class\": \"logging.StreamHandler\",\n",
    "            \"level\": \"DEBUG\",\n",
    "            \"formatter\": \"cli\",\n",
    "            \"stream\": \"ext://sys.stdout\",\n",
    "            \"filters\": [\"non_error_filter\"],\n",
    "        },\n",
    "        \"stderr\": {\n",
    "            \"class\": \"logging.StreamHandler\",\n",
    "            \"level\": \"WARNING\",\n",
    "            \"formatter\": \"cli\",\n",
    "            \"stream\": \"ext://sys.stderr\",\n",
    "        },\n",
    "        \"file\": {\n",
    "            \"class\": \"logging.FileHandler\",\n",
    "            \"level\": \"DEBUG\",\n",
    "            \"formatter\": \"log_file\",\n",
    "            \"filename\": \"14_logging/dict_logger.log\",\n",
    "            \"mode\": \"w+\",\n",
    "        },\n",
    "    },\n",
    "    \"loggers\": {\n",
    "        \"root\": {\"level\": \"DEBUG\", \"handlers\": [\"stdout\", \"stderr\", \"file\"]}\n",
    "    },\n",
    "}\n",
    "\n",
    "logging.config.dictConfig(config=logging_config)"
   ]
  },
  {
   "cell_type": "code",
   "execution_count": null,
   "metadata": {},
   "outputs": [],
   "source": [
    "logger.debug('Debugging information')\n",
    "logger.info('Informational message')\n",
    "logger.warning('Warning:config file %s not found', 'server.conf')\n",
    "logger.error('Error occurred')\n",
    "logger.critical('Critical error -- shutting down')\n",
    "logger.info(\"Logging using a dict config\")"
   ]
  },
  {
   "cell_type": "markdown",
   "metadata": {},
   "source": [
    "## Configure logging using a JSON"
   ]
  },
  {
   "cell_type": "markdown",
   "metadata": {},
   "source": [
    "```json\n",
    "{\n",
    "    \"version\": 1,\n",
    "    \"disable_existing_loggers\": false,\n",
    "    \"formatters\": {\n",
    "        \"cli\": {\n",
    "            \"format\": \"[%(levelname)s] [%(name)s: %(funcName)s: %(lineno)d]: %(message)s\"\n",
    "        },\n",
    "        \"log_file\": {\n",
    "            \"format\": \"[%(levelname)s] %(asctime)s [%(name)s: %(funcName)s: %(lineno)d]: %(message)s\"\n",
    "        }\n",
    "    },\n",
    "    \"filters\": {\n",
    "        \"non_error_filter\": {\"()\": \"custom_json_logger.NonErrorFilter\"}\n",
    "    },\n",
    "    \"handlers\": {\n",
    "        \"stdout\": {\n",
    "            \"class\": \"logging.StreamHandler\",\n",
    "            \"level\": \"DEBUG\",\n",
    "            \"formatter\": \"cli\",\n",
    "            \"stream\": \"ext://sys.stdout\",\n",
    "            \"filters\": [\"non_error_filter\"]\n",
    "        },\n",
    "        \"stderr\": {\n",
    "            \"class\": \"logging.StreamHandler\",\n",
    "            \"level\": \"WARNING\",\n",
    "            \"formatter\": \"cli\",\n",
    "            \"stream\": \"ext://sys.stderr\"\n",
    "        },\n",
    "        \"file\": {\n",
    "            \"class\": \"logging.FileHandler\",\n",
    "            \"level\": \"DEBUG\",\n",
    "            \"formatter\": \"log_file\",\n",
    "            \"filename\": \"14_logging/json_logger.log\",\n",
    "            \"mode\": \"w+\"\n",
    "        }\n",
    "    },\n",
    "    \"loggers\": {\n",
    "        \"root\": {\"level\": \"DEBUG\", \"handlers\": [\"stdout\", \"stderr\", \"file\"]}\n",
    "    }\n",
    "}[\"stdout\", \"stderr\", \"file\"]}\n",
    "    }\n",
    "}\n",
    "```"
   ]
  },
  {
   "cell_type": "code",
   "execution_count": null,
   "metadata": {},
   "outputs": [],
   "source": [
    "import logging\n",
    "import json\n",
    "from pathlib import Path\n",
    "\n",
    "# Create a custom logger\n",
    "logger = logging.getLogger(__name__)\n",
    "\n",
    "config_file = Path(\"14_logging/log_config.json\")\n",
    "with open(config_file) as fp:\n",
    "        config = json.load(fp)\n",
    "\n",
    "logging.config.dictConfig(config)"
   ]
  },
  {
   "cell_type": "code",
   "execution_count": null,
   "metadata": {},
   "outputs": [],
   "source": [
    "logger.debug('Debugging information')\n",
    "logger.info('Informational message')\n",
    "logger.warning('Warning:config file %s not found', 'server.conf')\n",
    "logger.error('Error occurred')\n",
    "logger.critical('Critical error -- shutting down') \n",
    "logger.info(\"Logging using a JSON config\")"
   ]
  },
  {
   "cell_type": "markdown",
   "metadata": {},
   "source": [
    "## Configure logging using a YAML"
   ]
  },
  {
   "cell_type": "markdown",
   "metadata": {},
   "source": [
    "```yaml\n",
    "---\n",
    "version: 1\n",
    "disable_existing_loggers: false\n",
    "formatters:\n",
    "  cli:\n",
    "    format: \"[%(levelname)s] [%(name)s: %(funcName)s: %(lineno)d]: %(message)s\"\n",
    "  log_file:\n",
    "    format: \"[%(levelname)s] %(asctime)s [%(name)s: %(funcName)s: %(lineno)d]: %(message)s\"\n",
    "filters:\n",
    "  non_error_filter:\n",
    "    \"()\": custom_json_logger.NonErrorFilter\n",
    "handlers:\n",
    "  stdout:\n",
    "    class: logging.StreamHandler\n",
    "    level: DEBUG\n",
    "    formatter: cli\n",
    "    stream: ext://sys.stdout\n",
    "    filters:\n",
    "    - non_error_filter\n",
    "  stderr:\n",
    "    class: logging.StreamHandler\n",
    "    level: WARNING\n",
    "    formatter: cli\n",
    "    stream: ext://sys.stderr\n",
    "  file:\n",
    "    class: logging.FileHandler\n",
    "    level: DEBUG\n",
    "    formatter: log_file\n",
    "    filename: 14_logging/yaml_logger.log\n",
    "    mode: w+\n",
    "loggers:\n",
    "  root:\n",
    "    level: DEBUG\n",
    "    handlers:\n",
    "    - stdout\n",
    "    - stderr\n",
    "    - file\n",
    "\n",
    "  ```"
   ]
  },
  {
   "cell_type": "code",
   "execution_count": null,
   "metadata": {},
   "outputs": [],
   "source": [
    "import logging\n",
    "import yaml\n",
    "from pathlib import Path\n",
    "\n",
    "# Create a custom logger\n",
    "logger = logging.getLogger(__name__)\n",
    "\n",
    "config_file = Path(\"14_logging/log_config.yaml\")\n",
    "with open(config_file) as fp:\n",
    "        config = yaml.safe_load(fp)\n",
    "\n",
    "logging.config.dictConfig(config)"
   ]
  },
  {
   "cell_type": "code",
   "execution_count": null,
   "metadata": {},
   "outputs": [],
   "source": [
    "logger.debug('Debugging information')\n",
    "logger.info('Informational message')\n",
    "logger.warning('Warning:config file %s not found', 'server.conf')\n",
    "logger.error('Error occurred')\n",
    "logger.critical('Critical error -- shutting down') \n",
    "logger.info(\"Logging using a YAML config\")"
   ]
  },
  {
   "cell_type": "code",
   "execution_count": null,
   "metadata": {},
   "outputs": [],
   "source": [
    "def divide_numbers(a, b):\n",
    "    try:\n",
    "        result = a / b\n",
    "    except ZeroDivisionError as e:\n",
    "        logger.error(f\"\\n{a} / {b} throws {e!r}\")\n",
    "    except TypeError as e:\n",
    "        logger.exception(f\"\\n{a} / {b!r} throws {e!r}\")\n",
    "    except Exception as e:\n",
    "        logger.exception(f\"\\n{a:,} / {b} throws {e!r}\")\n",
    "    else:\n",
    "        logger.info(\"\\nDivision result:\", result)\n",
    "    finally:\n",
    "        logger.info(\"Division operation completed.\")\n",
    "\n",
    "# divide_numbers(1, 2)\n",
    "# divide_numbers(1, 0)\n",
    "divide_numbers(1, 'a')"
   ]
  },
  {
   "cell_type": "markdown",
   "metadata": {},
   "source": [
    "## Writing logs into a .jsonl file"
   ]
  },
  {
   "cell_type": "code",
   "execution_count": null,
   "metadata": {},
   "outputs": [],
   "source": [
    "import logging\n",
    "import yaml\n",
    "from pathlib import Path\n",
    "\n",
    "# Create a custom logger\n",
    "logger = logging.getLogger(__name__)\n",
    "\n",
    "config_file = Path(\"14_logging/jsonl_log_config.yaml\")\n",
    "with open(config_file) as fp:\n",
    "        config = yaml.safe_load(fp)\n",
    "\n",
    "logging.config.dictConfig(config)"
   ]
  },
  {
   "cell_type": "code",
   "execution_count": null,
   "metadata": {},
   "outputs": [],
   "source": [
    "logger.debug('Debugging information')\n",
    "logger.info('Informational message')\n",
    "logger.warning('Warning:config file %s not found', 'server.conf')\n",
    "logger.error('Error occurred')\n",
    "logger.critical('Critical error -- shutting down') \n",
    "logger.info(\"Logging using a YAML config and writing into .jsonl files\")"
   ]
  },
  {
   "cell_type": "code",
   "execution_count": null,
   "metadata": {},
   "outputs": [],
   "source": [
    "def divide_numbers(a, b):\n",
    "    try:\n",
    "        result = a / b\n",
    "    except ZeroDivisionError as e:\n",
    "        logger.error(f\"\\n{a} / {b} throws {e!r}\")\n",
    "    except TypeError as e:\n",
    "        logger.exception(f\"\\n{a} / {b!r} throws {e!r}\")\n",
    "    except Exception as e:\n",
    "        logger.exception(f\"\\n{a:,} / {b} throws {e!r}\")\n",
    "    else:\n",
    "        logger.info(\"\\nDivision result:\", result)\n",
    "    finally:\n",
    "        logger.info(\"Division operation completed.\")\n",
    "\n",
    "# divide_numbers(1, 2)\n",
    "# divide_numbers(1, 0)\n",
    "divide_numbers(1, 'a')"
   ]
  },
  {
   "cell_type": "code",
   "execution_count": null,
   "metadata": {},
   "outputs": [],
   "source": [
    "logger.error(\"This is an error\")"
   ]
  },
  {
   "cell_type": "code",
   "execution_count": null,
   "metadata": {},
   "outputs": [],
   "source": [
    "logger.error(\"This is an error\", extra={'value': 23, \"extra_details\":['bmc', 'os']})"
   ]
  },
  {
   "cell_type": "markdown",
   "metadata": {},
   "source": [
    "## Logging QueueHandler"
   ]
  },
  {
   "cell_type": "markdown",
   "metadata": {
    "tags": []
   },
   "source": [
    "## Useful logging handlers\n",
    "\n",
    "1. `RotatingFileHandler` instances send messages to disk files, with support for maximum log file sizes and log file rotation.\n",
    "\n",
    "**Example:**\n",
    "\n",
    "```python\n",
    "import logging\n",
    "from logging.handlers import RotatingFileHandler\n",
    "\n",
    "logger = logging.getLogger('my_logger')\n",
    "logger.setLevel(logging.DEBUG)\n",
    "handler = RotatingFileHandler('my_log.log', maxBytes=(10*1024*1024), backupCount=10)\n",
    "logger.addHandler(handler)\n",
    "\n",
    "for _ in range(10000):\n",
    "logger.debug('Hello, world!')\n",
    "\n",
    "```\n",
    "\n",
    "\n",
    "**Complete class signature:**\n",
    "\n",
    "\n",
    "```python\n",
    "class logging.handlers.RotatingFileHandler(filename, mode='a', maxBytes=0, backupCount=0, encoding=None, delay=False, errors=None)\n",
    "```\n",
    "\n",
    "2. `TimedRotatingFileHandler` instances send messages to disk files, rotating the log file at certain timed intervals.\n",
    "\n",
    "**Example:**\n",
    "\n",
    "```python\n",
    "import logging\n",
    "from logging.handlers import TimedRotatingFileHandler\n",
    "\n",
    "logger = logging.getLogger('my_logger')\n",
    "logger.setLevel(logging.DEBUG)\n",
    "handler = TimedRotatingFileHandler('my_timed_log.log', when=\"S\", interval=30, backupCount=10)\n",
    "formatter = logging.Formatter('%(asctime)s %(name)s %(levelname)s %(message)s')\n",
    "handler.setFormatter(formatter)\n",
    "logger.addHandler(handler)\n",
    " for i in range(10000):\n",
    "    time.sleep(0.1)\n",
    "    logger.debug('i=%d' % i)\n",
    "    logger.info('i=%d' % i)\n",
    "    logger.warn('i=%d' % i)\n",
    "    logger.error('i=%d' % i)\n",
    "    logger.critical('i=%d' % i)\n",
    "```\n",
    "\n",
    "\n",
    "**Complete class signature:**\n",
    "\n",
    "\n",
    "```python\n",
    "class logging.handlers.TimedRotatingFileHandler(filename, when='h', interval=1, backupCount=0, encoding=None, delay=False, utc=False, atTime=None, errors=None)\n",
    "```\n",
    "\n",
    "<table class=\"docutils align-default\">\n",
    "<colgroup>\n",
    "<col style=\"width: 23%\" />\n",
    "<col style=\"width: 41%\" />\n",
    "<col style=\"width: 36%\" />\n",
    "</colgroup>\n",
    "<thead>\n",
    "<tr class=\"row-odd\"><th class=\"head\"><p>Value</p></th>\n",
    "<th class=\"head\"><p>Type of interval</p></th>\n",
    "<th class=\"head\"><p>If/how <em>atTime</em> is used</p></th>\n",
    "</tr>\n",
    "</thead>\n",
    "<tbody>\n",
    "<tr class=\"row-even\"><td><p><code class=\"docutils literal notranslate\"><span class=\"pre\">'S'</span></code></p></td>\n",
    "<td><p>Seconds</p></td>\n",
    "<td><p>Ignored</p></td>\n",
    "</tr>\n",
    "<tr class=\"row-odd\"><td><p><code class=\"docutils literal notranslate\"><span class=\"pre\">'M'</span></code></p></td>\n",
    "<td><p>Minutes</p></td>\n",
    "<td><p>Ignored</p></td>\n",
    "</tr>\n",
    "<tr class=\"row-even\"><td><p><code class=\"docutils literal notranslate\"><span class=\"pre\">'H'</span></code></p></td>\n",
    "<td><p>Hours</p></td>\n",
    "<td><p>Ignored</p></td>\n",
    "</tr>\n",
    "<tr class=\"row-odd\"><td><p><code class=\"docutils literal notranslate\"><span class=\"pre\">'D'</span></code></p></td>\n",
    "<td><p>Days</p></td>\n",
    "<td><p>Ignored</p></td>\n",
    "</tr>\n",
    "<tr class=\"row-even\"><td><p><code class=\"docutils literal notranslate\"><span class=\"pre\">'W0'-'W6'</span></code></p></td>\n",
    "<td><p>Weekday (0=Monday)</p></td>\n",
    "<td><p>Used to compute initial\n",
    "rollover time</p></td>\n",
    "</tr>\n",
    "<tr class=\"row-odd\"><td><p><code class=\"docutils literal notranslate\"><span class=\"pre\">'midnight'</span></code></p></td>\n",
    "<td><p>Roll over at midnight, if\n",
    "<em>atTime</em> not specified,\n",
    "else at time <em>atTime</em></p></td>\n",
    "<td><p>Used to compute initial\n",
    "rollover time</p></td>\n",
    "</tr>\n",
    "</tbody>\n",
    "</table>\n",
    "\n",
    "\n",
    "3. `QueueHandler` supports sending logging messages to a queue. Along with the `QueueListener` class, `QueueHandler` can be used to let handlers do their work on a separate thread from the one which does the logging.\n",
    "\n",
    "**Example:**\n",
    "\n",
    "```python\n",
    "import logging\n",
    "import logging.handlers\n",
    "import queue\n",
    "import threading\n",
    "\n",
    "# Create a Queue for log records\n",
    "log_queue = queue.Queue()\n",
    "\n",
    "# Create a QueueHandler and set its target to the Queue\n",
    "queue_handler = logging.handlers.QueueHandler(log_queue)\n",
    "\n",
    "# Create a logger and add the QueueHandler\n",
    "logger = logging.getLogger(__name__)\n",
    "logger.addHandler(queue_handler)\n",
    "logger.setLevel(logging.DEBUG)\n",
    "\n",
    "# Function to simulate log record creation\n",
    "def generate_log_records():\n",
    "    for i in range(5):\n",
    "        logger.debug(f\"Log message {i}\")\n",
    "\n",
    "# Worker function to process log records from the queue\n",
    "def worker():\n",
    "    while True:\n",
    "        try:\n",
    "            record = log_queue.get()\n",
    "            if record is None:\n",
    "                break\n",
    "            logger.handle(record)\n",
    "        except Exception as e:\n",
    "            print(f\"Error processing log record: {e}\")\n",
    "\n",
    "# Start the worker thread\n",
    "worker_thread = threading.Thread(target=worker, daemon=True)\n",
    "worker_thread.start()\n",
    "\n",
    "# Generate log records\n",
    "generate_log_records()\n",
    "\n",
    "# Stop the worker thread by sending a None record\n",
    "log_queue.put(None)\n",
    "worker_thread.join()\n",
    "\n",
    "```\n",
    "**Complete class signature:**\n",
    "\n",
    "```python\n",
    "class logging.handlers.QueueHandler(queue)\n",
    "```\n"
   ]
  },
  {
   "cell_type": "markdown",
   "metadata": {},
   "source": [
    "## Python Logging tutorials"
   ]
  },
  {
   "cell_type": "markdown",
   "metadata": {},
   "source": [
    "Checks these URLs:\n",
    "\n",
    "- [Logging](https://docs.python.org/3/library/logging.html#)\n",
    "- [Logging Cookbook](https://docs.python.org/3/howto/logging-cookbook.html#logging-cookbook)"
   ]
  },
  {
   "cell_type": "markdown",
   "metadata": {},
   "source": [
    "## 3rd party libraries for logging\n",
    "\n",
    "- icecream: https://github.com/gruns/icecream\n",
    "- loguru: https://github.com/Delgan/loguru"
   ]
  },
  {
   "cell_type": "markdown",
   "metadata": {},
   "source": [
    "## icecream"
   ]
  },
  {
   "cell_type": "code",
   "execution_count": null,
   "metadata": {},
   "outputs": [],
   "source": [
    "%pip install icecream"
   ]
  },
  {
   "cell_type": "code",
   "execution_count": null,
   "metadata": {},
   "outputs": [],
   "source": [
    "from icecream import ic\n",
    "\n",
    "def foo(i):\n",
    "    return i + 333\n",
    "\n",
    "ic(foo(123))"
   ]
  },
  {
   "cell_type": "code",
   "execution_count": null,
   "metadata": {},
   "outputs": [],
   "source": [
    "d = {'key': {1: 'one'}}\n",
    "ic(d['key'][1])\n",
    "\n",
    "class klass():\n",
    "    attr = 'yep'\n",
    "ic(klass.attr)"
   ]
  },
  {
   "cell_type": "code",
   "execution_count": null,
   "metadata": {},
   "outputs": [],
   "source": [
    "def foo(expression):\n",
    "    ic()\n",
    "\n",
    "    if expression:\n",
    "        ic()\n",
    "    else:\n",
    "        ic()"
   ]
  },
  {
   "cell_type": "code",
   "execution_count": null,
   "metadata": {},
   "outputs": [],
   "source": [
    "foo(True)"
   ]
  },
  {
   "cell_type": "code",
   "execution_count": null,
   "metadata": {},
   "outputs": [],
   "source": [
    "foo(False)"
   ]
  },
  {
   "cell_type": "code",
   "execution_count": null,
   "metadata": {},
   "outputs": [],
   "source": [
    "ic(1)\n",
    "\n",
    "ic.disable()\n",
    "ic(2)\n",
    "\n",
    "ic.enable()\n",
    "ic(3)"
   ]
  },
  {
   "cell_type": "markdown",
   "metadata": {},
   "source": [
    "[<< 14. Sending an email using Python](14_sending_an_email.ipynb) | [Index](00_index.ipynb) | [16. Debugging in Python >>](16_debugging.ipynb)"
   ]
  }
 ],
 "metadata": {
  "kernelspec": {
   "display_name": "Python 3 (ipykernel)",
   "language": "python",
   "name": "python3"
  },
  "language_info": {
   "codemirror_mode": {
    "name": "ipython",
    "version": 3
   },
   "file_extension": ".py",
   "mimetype": "text/x-python",
   "name": "python",
   "nbconvert_exporter": "python",
   "pygments_lexer": "ipython3",
   "version": "3.10.8"
  }
 },
 "nbformat": 4,
 "nbformat_minor": 4
}
